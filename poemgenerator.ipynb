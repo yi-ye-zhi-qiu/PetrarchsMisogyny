{
  "nbformat": 4,
  "nbformat_minor": 5,
  "metadata": {
    "kernelspec": {
      "display_name": "Python 3",
      "language": "python",
      "name": "python3"
    },
    "language_info": {
      "codemirror_mode": {
        "name": "ipython",
        "version": 3
      },
      "file_extension": ".py",
      "mimetype": "text/x-python",
      "name": "python",
      "nbconvert_exporter": "python",
      "pygments_lexer": "ipython3",
      "version": "3.8.5"
    },
    "colab": {
      "name": "poemgenerator.ipynb",
      "provenance": [],
      "include_colab_link": true
    }
  },
  "cells": [
    {
      "cell_type": "markdown",
      "metadata": {
        "id": "view-in-github",
        "colab_type": "text"
      },
      "source": [
        "<a href=\"https://colab.research.google.com/github/yi-ye-zhi-qiu/metis-project4/blob/main/poemgenerator.ipynb\" target=\"_parent\"><img src=\"https://colab.research.google.com/assets/colab-badge.svg\" alt=\"Open In Colab\"/></a>"
      ]
    },
    {
      "cell_type": "code",
      "metadata": {
        "id": "glETVJ5_HUR2"
      },
      "source": [
        "#import stuff\n",
        "\n",
        "# NOTE: gutenberg MUST be run in a separate notebook, collab cannot handle gutenberg's necessary python 2.7 dependencies, unlike Jupyter\n",
        "# ^^ for more, see: https://pypi.org/project/Gutenberg/  we cannot run the requisite \"brew install berkeley-db4\" command \n",
        "\n",
        "\n",
        "#TensorFlow\n",
        "import tensorflow as tf\n",
        "from tensorflow.keras.preprocessing.sequence import pad_sequences\n",
        "from tensorflow.keras.layers import Embedding, LSTM, Dense, Bidirectional\n",
        "from tensorflow.keras.preprocessing.text import Tokenizer\n",
        "from tensorflow.keras.models import Sequential\n",
        "from tensorflow.keras.optimizers import Adam\n",
        "\n",
        "#SKLearn\n",
        "from sklearn.cluster import KMeans\n",
        "from sklearn.feature_extraction.text import CountVectorizer\n",
        "from sklearn.decomposition import LatentDirichletAllocation\n",
        "from sklearn.decomposition import NMF\n",
        "\n",
        "\n",
        "\n",
        "#Other\n",
        "# from gutenberg.acquire import load_etext\n",
        "# from gutenberg.cleanup import strip_headers\n",
        "import matplotlib.pyplot as plt\n",
        "import seaborn as sns\n",
        "import pandas as pd\n",
        "import numpy as np \n",
        "import re"
      ],
      "id": "glETVJ5_HUR2",
      "execution_count": null,
      "outputs": []
    },
    {
      "cell_type": "code",
      "metadata": {
        "id": "stupid-departure"
      },
      "source": [
        "#gutenberg is used to fetch book txt files, so long as we give it the book ID\n",
        "#we will, in addition to that, feed in the # of lines we want to skip (think of it like skipping the first 10 pages),\n",
        "#and give it a personal name\n",
        "\n",
        "books = [\n",
        "#   BookID, skip N lines\n",
        "#   (26715, 1000, 'Victorian songs'),\n",
        "#   (30235, 580, 'Baldwin collection'),\n",
        "#   (35402, 710, 'Swinburne collection'),\n",
        "#   (574, 15, 'Blake'),\n",
        "#   (1304, 172, 'Bulchevys collection'),\n",
        "#   (19221, 223, 'Palgrave-Pearse collection'),\n",
        "#   (15553, 522, 'Knowles collection') ,\n",
        "    (17650, 6605, 'The Sonnets, Triumphs, and Other Poems of Petrarch by Francesco Petrarca') \n",
        "#                                    Link: https://www.gutenberg.org/ebooks/17650\n",
        "#                                    6605 is the # of lines that we skip to get \n",
        "#                                    to the poems.\n",
        "]"
      ],
      "id": "stupid-departure",
      "execution_count": 3,
      "outputs": []
    },
    {
      "cell_type": "markdown",
      "metadata": {
        "id": "xdSBYWYocKCb"
      },
      "source": [
        "# Get cleaned text file"
      ],
      "id": "xdSBYWYocKCb"
    },
    {
      "cell_type": "code",
      "metadata": {
        "id": "searching-brave"
      },
      "source": [
        "#Save as raw.txt file\n",
        "with open('data/poetry/raw.txt', 'w') as ofp:\n",
        "  lineno = 0\n",
        "  for (id_nr, toskip, title) in books:\n",
        "    startline = lineno\n",
        "    text = strip_headers(load_etext(id_nr, mirror='http://mirrors.xmission.com/gutenberg/')).strip()\n",
        "    lines = text.split('\\n')[toskip:]\n",
        "    for line in lines:\n",
        "      if (len(line) > 0 \n",
        "          and line.upper() != line \n",
        "          and not re.match('.*[0-9]+.*', line)\n",
        "          and len(line) < 50\n",
        "         ): #skip Titles\n",
        "        cleaned = re.sub('[^a-z\\'\\-]+', ' ', line.strip().lower()) #all lowercase, only letters\n",
        "        ofp.write(cleaned)\n",
        "        ofp.write('\\n')\n",
        "        lineno = lineno + 1 #next line\n",
        "      else:\n",
        "        ofp.write('\\n')\n",
        "    print('Wrote lines {} to {} from {}'.format(startline, lineno, title))"
      ],
      "id": "searching-brave",
      "execution_count": null,
      "outputs": []
    },
    {
      "cell_type": "code",
      "metadata": {
        "colab": {
          "base_uri": "https://localhost:8080/"
        },
        "id": "subjective-precipitation",
        "outputId": "f38431d9-247b-4170-f8e2-fbc29c9cf073"
      },
      "source": [
        "#Connect to Google drive, where raw.txt is stored. \n",
        "from google.colab import drive\n",
        "drive.mount(\"/content/drive\")"
      ],
      "id": "subjective-precipitation",
      "execution_count": 5,
      "outputs": [
        {
          "output_type": "stream",
          "text": [
            "Mounted at /content/drive\n"
          ],
          "name": "stdout"
        }
      ]
    },
    {
      "cell_type": "code",
      "metadata": {
        "colab": {
          "base_uri": "https://localhost:8080/"
        },
        "id": "eVJqWKFCUu8w",
        "outputId": "9de7c396-1976-417f-938e-0f31b5c0a31e"
      },
      "source": [
        "#Now that we are connected to our gDrive, we can read in raw.txt\n",
        "raw = pd.read_csv('/content/drive/My Drive/notebooks/raw.txt')\n",
        "raw = raw.values.tolist()\n",
        "\n",
        "print(\"Example data structure, note that it is a list of lists: \\n\",raw[0:2])"
      ],
      "id": "eVJqWKFCUu8w",
      "execution_count": 6,
      "outputs": [
        {
          "output_type": "stream",
          "text": [
            "Example data structure, note that it is a list of lists: \n",
            " [['of those sad sighs with which my heart i fed'], ['when early youth my mazy wanderings led ']]\n"
          ],
          "name": "stdout"
        }
      ]
    },
    {
      "cell_type": "markdown",
      "metadata": {
        "id": "V9AiOEvbZ2JH"
      },
      "source": [
        "# LDA/NMF"
      ],
      "id": "V9AiOEvbZ2JH"
    },
    {
      "cell_type": "code",
      "metadata": {
        "id": "W48tIj94tJE4"
      },
      "source": [
        "#Define corpus as just one long list as opposed to list of lists?\n",
        "corpus = [','.join(x) for x in raw]"
      ],
      "id": "W48tIj94tJE4",
      "execution_count": 98,
      "outputs": []
    },
    {
      "cell_type": "code",
      "metadata": {
        "colab": {
          "base_uri": "https://localhost:8080/"
        },
        "id": "a4R3ullYUKn7",
        "outputId": "2bc86cee-c252-42f8-c682-ae520192fc82"
      },
      "source": [
        "#Instantiate count vectorizer\n",
        "CV = CountVectorizer(ngram_range=(1, 1), stop_words='english')\n",
        "\n",
        "#Fit to data\n",
        "Vector = CV.fit_transform(corpus)\n",
        "\n",
        "#LDA\n",
        "lda = LatentDirichletAllocation(n_components=5)\n",
        "lda_Fit = lda.fit_transform(Vector)\n",
        "\n",
        "#NMF\n",
        "#Look @ top 10 words, name as clusters - ask the user to pick one of those\n",
        "nmf = NMF(n_components=100, init='random', random_state=0)\n",
        "nmf_Fit = nmf.fit_transform(Vector)\n",
        "nmf_Components = nmf.components_\n",
        "\n",
        "print(Vector.shape[0],'poems analyzed by CountVectorizer')\n",
        "print(nmf_Components.shape[1], 'poems analyzed by NMF')\n",
        "print(len(lda_Fit),'poems analyzed by LDA')"
      ],
      "id": "a4R3ullYUKn7",
      "execution_count": 90,
      "outputs": [
        {
          "output_type": "stream",
          "text": [
            "10982 poems analyzed by CountVectorizer\n",
            "8217 poems analyzed by NMF\n",
            "10982 poems analyzed by LDA\n"
          ],
          "name": "stdout"
        }
      ]
    },
    {
      "cell_type": "code",
      "metadata": {
        "id": "oUKX2EfgkBOK"
      },
      "source": [
        "#df is FIT ON NMF\n",
        "#df = pd.DataFrame(data = Vector.toarray(), columns=CV.get_feature_names())\n",
        "#df = pd.DataFrame(data = nmf_Components, columns=CV.get_feature_names())"
      ],
      "id": "oUKX2EfgkBOK",
      "execution_count": 91,
      "outputs": []
    },
    {
      "cell_type": "markdown",
      "metadata": {
        "id": "zV6g-SQuZ3ta"
      },
      "source": [
        "## Analyze NMF/LDA (top 10 topics)"
      ],
      "id": "zV6g-SQuZ3ta"
    },
    {
      "cell_type": "code",
      "metadata": {
        "colab": {
          "base_uri": "https://localhost:8080/"
        },
        "id": "xkGvQV2sbUDW",
        "outputId": "100af0bc-7015-4ce5-f6e9-99ff51683def"
      },
      "source": [
        "features = CV.get_feature_names()\n",
        "\n",
        "#Words from NMF\n",
        "a = nmf_Components.argsort(axis=1)[:,-1:-7:-1]\n",
        "nmf_words = [[features[e] for e in l] for l in a]\n",
        "print('NMF poem topic words \\n', nmf_words)\n",
        "\n",
        "#Words from LDA\n",
        "b = lda.components_.argsort(axis=1)[:,-1:-7:-1]\n",
        "lda_words = [[corpus[e] for e in l] for l in b]\n",
        "print('LDA poem topic words \\n', lda_words)"
      ],
      "id": "xkGvQV2sbUDW",
      "execution_count": 12,
      "outputs": [
        {
          "output_type": "stream",
          "text": [
            "NMF poem topic words \n",
            " [['love', 'long', 'cruel', 'death', 'fortune', 'mind'], ['heart', 'thy', 'life', 'er', 'day', 'eyes']]\n",
            "LDA poem topic words \n",
            " [['which gilds through life the gloomy hour ', 'i said as far from men ', 'centre of honour perfect and alone ', 'has lust his death from supreme beauty met ', 'when hope was in its bloomy prime ', 'that graced her age unable to depart '], ['the bitter and the sweet on which i feed ', 'in arrowy jets of fire thence came and went', 'which gilds through life the gloomy hour ', \"e'en its fair promise--and with fatal pride \", \"my eyes enamour'd of their grief intense \", 'sweet keys of my gone heart '], ['eternal tears my stricken heart overflow ', 'the bitter and the sweet on which i feed ', ' n cos bello il sol giammai levarsi ', \"what beast within my fold has leap'd to feed \", \"ah to thy friend too well may be address'd \", ' dolci ire dolci sdegni e dolci paci '], ['blest the sweet pain of which i was the prey ', 'the bitter and the sweet on which i feed ', 'and charms divine which mortals rarely see ', 'whose shining tints with finest gold compete ', \"ah to thy friend too well may be address'd \", 'ah now what fortune wills i see full sure '], ['and bids the ready smile succeed the tear ', 'and charms divine which mortals rarely see ', 'sorrowing i wander and my numbers pour ', 'that stately laurel from a sucker small ', 'by day by night to burn how sweet that pain', \"o'er hannibal and his afflicted state \"]]\n"
          ],
          "name": "stdout"
        }
      ]
    },
    {
      "cell_type": "markdown",
      "metadata": {
        "id": "dndcHcxyZyJS"
      },
      "source": [
        "# KNN Algorithm"
      ],
      "id": "dndcHcxyZyJS"
    },
    {
      "cell_type": "code",
      "metadata": {
        "id": "2LpzphKZa_F9"
      },
      "source": [
        "def run_KMeans(max_k, data):\n",
        "    max_k += 1\n",
        "    kmeans_results = dict()\n",
        "    for k in range(2 , max_k):\n",
        "        kmeans = KMeans(n_clusters = k\n",
        "                               , init = 'k-means++'\n",
        "                               , n_init = 10\n",
        "                               , tol = 0.0001\n",
        "                               , n_jobs = -1\n",
        "                               , random_state = 1\n",
        "                               , algorithm = 'full')\n",
        "\n",
        "        kmeans_results.update( {k : kmeans.fit(data)} )\n",
        "        \n",
        "    return kmeans_results\n",
        "\n",
        "# Running Kmeans\n",
        "k = 8\n",
        "kmeans_results = run_KMeans(k, df)"
      ],
      "id": "2LpzphKZa_F9",
      "execution_count": null,
      "outputs": []
    },
    {
      "cell_type": "code",
      "metadata": {
        "id": "4tOrlJmIvQ1G"
      },
      "source": [
        "# Run the Kmeans algorithm and get the index of data points clusters\n",
        "sse = []\n",
        "list_k = list(range(1, 10))\n",
        "\n",
        "for k in list_k:\n",
        "    km = KMeans(n_clusters=k)\n",
        "    km.fit(X_std)\n",
        "    sse.append(km.inertia_)\n",
        "\n",
        "# Plot sse against k\n",
        "plt.figure(figsize=(6, 6))\n",
        "plt.plot(list_k, sse, '-o')\n",
        "plt.xlabel(r'Number of clusters *k*')\n",
        "plt.ylabel('Sum of squared distance');"
      ],
      "id": "4tOrlJmIvQ1G",
      "execution_count": null,
      "outputs": []
    },
    {
      "cell_type": "code",
      "metadata": {
        "id": "V2ngILdfdXj0"
      },
      "source": [
        "# Running Kmeans\n",
        "k = 50\n",
        "kmeans = KMeans(n_clusters = k\n",
        "                               , init = 'k-means++'\n",
        "                               , n_init = 10\n",
        "                               , tol = 0.001\n",
        "                               , n_jobs = -1\n",
        "                               , random_state = 1\n",
        "                               , algorithm = 'full').fit(df)"
      ],
      "id": "V2ngILdfdXj0",
      "execution_count": 92,
      "outputs": []
    },
    {
      "cell_type": "markdown",
      "metadata": {
        "id": "1vw2crm7bjya"
      },
      "source": [
        "## KMeans Analysis"
      ],
      "id": "1vw2crm7bjya"
    },
    {
      "cell_type": "code",
      "metadata": {
        "id": "xLdY8tMyboCj"
      },
      "source": [
        "def get_top_features_cluster(tf_idf_array, prediction, n_feats):\n",
        "    labels = np.unique(prediction)\n",
        "    print(labels)\n",
        "    dfs = []\n",
        "    for label in labels:\n",
        "        id_temp = np.where(prediction==label) # indices for each cluster\n",
        "        print(id_temp)\n",
        "        x_means = np.mean(df_arr[id_temp], axis = 0) # returns average score across cluster\n",
        "        sorted_means = np.argsort(x_means)[::-1][:n_feats] # indices with top 20 scores\n",
        "        features = CV.get_feature_names()\n",
        "        best_features = [(features[i], x_means[i]) for i in sorted_means]\n",
        "        print(best_features)\n",
        "        df = pd.DataFrame(best_features, columns = ['features', 'score'])\n",
        "        dfs.append(df)\n",
        "    return dfs\n",
        "\n",
        "def plotWords(dfs, n_feats):\n",
        "    plt.figure(figsize=(8, 4))\n",
        "    for i in range(0, len(dfs)):\n",
        "        plt.title((\"Most Common Words in Cluster {}\".format(i)), fontsize=10, fontweight='bold')\n",
        "        sns.barplot(x = 'score' , y = 'features', orient = 'h' , data = dfs[i][:n_feats])\n",
        "        plt.show()"
      ],
      "id": "xLdY8tMyboCj",
      "execution_count": 86,
      "outputs": []
    },
    {
      "cell_type": "code",
      "metadata": {
        "id": "K-opxwwWbpu0"
      },
      "source": [
        "df_arr = df.to_numpy()\n",
        "prediction = kmeans.predict(df)\n",
        "n_feats = 20\n",
        "dfs = get_top_features_cluster(df_arr, prediction, n_feats)\n",
        "plotWords(dfs, 13)"
      ],
      "id": "K-opxwwWbpu0",
      "execution_count": null,
      "outputs": []
    },
    {
      "cell_type": "markdown",
      "metadata": {
        "id": "fFpefLwNXQJB"
      },
      "source": [
        "# Using word2vec -- can we understand metaphors as co-occurence relationships of words? "
      ],
      "id": "fFpefLwNXQJB"
    },
    {
      "cell_type": "code",
      "metadata": {
        "id": "F0vWmfD3bp4Z"
      },
      "source": [
        "#more libraries\n",
        "from gensim.models import Word2Vec\n",
        "from nltk.tokenize import RegexpTokenizer\n",
        "from nltk.corpus import stopwords \n",
        "import nltk\n"
      ],
      "id": "F0vWmfD3bp4Z",
      "execution_count": 58,
      "outputs": []
    },
    {
      "cell_type": "code",
      "metadata": {
        "colab": {
          "base_uri": "https://localhost:8080/"
        },
        "id": "bA2DZM8TdD68",
        "outputId": "79a0bcce-9396-476a-a525-543ee8ebe19e"
      },
      "source": [
        "df = pd.read_csv('/content/drive/My Drive/notebooks/raw.txt')\n",
        "df = df.values.tolist()\n",
        "print('Snippet of df:',df[0:2])"
      ],
      "id": "bA2DZM8TdD68",
      "execution_count": 270,
      "outputs": [
        {
          "output_type": "stream",
          "text": [
            "Snippet of df: [['of those sad sighs with which my heart i fed'], ['when early youth my mazy wanderings led ']]\n"
          ],
          "name": "stdout"
        }
      ]
    },
    {
      "cell_type": "code",
      "metadata": {
        "colab": {
          "base_uri": "https://localhost:8080/"
        },
        "id": "GiYiIecXdD9W",
        "outputId": "13abbc0f-4cf5-4746-d6ed-a6d2e2d746e9"
      },
      "source": [
        "# #Instantiate count vectorizer\n",
        "# CV = CountVectorizer(ngram_range=(1, 1), stop_words='english')\n",
        "\n",
        "# #Fit to data\n",
        "# Vector = CV.fit_transform(corpus)\n",
        "\n",
        "# #NMF\n",
        "# #Look @ top 10 words, name as clusters - ask the user to pick one of those\n",
        "# nmf = NMF(n_components=100, init='random', random_state=0)\n",
        "# nmf_Fit = nmf.fit_transform(Vector)\n",
        "# nmf_Components = nmf.components_\n",
        "\n",
        "#make corpus a list like ['line1', 'line2', ... 'line_n']\n",
        "corpus = [','.join((x)) for x in df]\n",
        "print('This is a snippet of our corpus\\n',corpus[0:5])\n",
        "\n",
        "#make stop words\n",
        "english_stops = set(stopwords.words('english')).union(set(['to', 'those', 'or', 'all', 'che', 'mi', 'thy', 'thee', 'yet', 'thou', 'thus', 'one', 'many', 'whose', 'every', 'shall', 'e', 'oh', 'could', 'shall', 'would', 'i']))\n",
        "\n",
        "#take ['line1'] and make it [ ['word1_line1', 'word2line1', ... ], ['word1_line2', 'word2_line2, ...] ]\n",
        "#only keep words (just to remove '--' punctuation)\n",
        "tokenizer = RegexpTokenizer(\"[\\w']+\") \n",
        "tokenized = [tokenizer.tokenize(x) for x in a]\n",
        "\n",
        "#apply stop words to each word, this is to remove the fluff of \"thou\" or other stuff which is not helpful\n",
        "\n",
        "for line in range(len(tokenized)): \n",
        "  tokenized[line] = [word for word in tokenized[line] if word not in english_stops] \n",
        "\n",
        "print('This is a snippet of our tokenized corpus\\n',tokenized[0:5])\n",
        "\n",
        "model = Word2Vec(tokenized)"
      ],
      "id": "GiYiIecXdD9W",
      "execution_count": 280,
      "outputs": [
        {
          "output_type": "stream",
          "text": [
            "This is a snippet of our corpus\n",
            " ['of those sad sighs with which my heart i fed', 'when early youth my mazy wanderings led ', 'fondly diverse from what i now appear ', 'from those by whom my various style is read ', 'not only pardon but perhaps a tear ']\n",
            "This is a snippet of our tokenized corpus\n",
            " [['sad', 'sighs', 'heart', 'fed'], ['early', 'youth', 'mazy', 'wanderings', 'led'], ['fondly', 'diverse', 'appear'], ['various', 'style', 'read'], ['pardon', 'perhaps', 'tear']]\n"
          ],
          "name": "stdout"
        }
      ]
    },
    {
      "cell_type": "markdown",
      "metadata": {
        "id": "Z-yIoM15EYzg"
      },
      "source": [
        "## Word associations for \"death\""
      ],
      "id": "Z-yIoM15EYzg"
    },
    {
      "cell_type": "code",
      "metadata": {
        "colab": {
          "base_uri": "https://localhost:8080/"
        },
        "id": "Lp2UKWDcX98q",
        "outputId": "556a83bf-8e29-42c4-f189-daefe90eaad5"
      },
      "source": [
        "model.most_similar(positive=\"death\")"
      ],
      "id": "Lp2UKWDcX98q",
      "execution_count": 273,
      "outputs": [
        {
          "output_type": "stream",
          "text": [
            "/usr/local/lib/python3.7/dist-packages/ipykernel_launcher.py:1: DeprecationWarning: Call to deprecated `most_similar` (Method will be removed in 4.0.0, use self.wv.most_similar() instead).\n",
            "  \"\"\"Entry point for launching an IPython kernel.\n"
          ],
          "name": "stderr"
        },
        {
          "output_type": "execute_result",
          "data": {
            "text/plain": [
              "[('love', 0.9981846809387207),\n",
              " ('eyes', 0.9975576400756836),\n",
              " ('life', 0.9974851608276367),\n",
              " ('may', 0.9974769949913025),\n",
              " ('heart', 0.9974138736724854),\n",
              " ('ever', 0.997370719909668),\n",
              " ('time', 0.9973157644271851),\n",
              " ('long', 0.9971936345100403),\n",
              " ('day', 0.9971933364868164),\n",
              " ('light', 0.997160792350769)]"
            ]
          },
          "metadata": {
            "tags": []
          },
          "execution_count": 273
        }
      ]
    },
    {
      "cell_type": "markdown",
      "metadata": {
        "id": "xOH2Pfmle-ii"
      },
      "source": [
        "## Pre-processing for use of Tensorflow embedding visualizations"
      ],
      "id": "xOH2Pfmle-ii"
    },
    {
      "cell_type": "code",
      "metadata": {
        "colab": {
          "base_uri": "https://localhost:8080/"
        },
        "id": "ACBYQjJ5e9gE",
        "outputId": "8d7704bd-1026-4b21-e73e-edf9a0f9bc95"
      },
      "source": [
        "words=list(model.wv.vocab)\n",
        "print('Here is a snippet of our words, which we can call our vocabulary in terms of word2vec',words[0:5])"
      ],
      "id": "ACBYQjJ5e9gE",
      "execution_count": 281,
      "outputs": [
        {
          "output_type": "stream",
          "text": [
            "Here is a snippet of our words, which we can call our vocabulary in terms of word2vec ['sad', 'sighs', 'heart', 'fed', 'early']\n"
          ],
          "name": "stdout"
        }
      ]
    },
    {
      "cell_type": "code",
      "metadata": {
        "colab": {
          "base_uri": "https://localhost:8080/",
          "height": 287
        },
        "id": "bD18X-vTe9in",
        "outputId": "63ad7ea2-b464-46cc-94b3-4a9761b36c98"
      },
      "source": [
        "#store all the word vectors in the data frame with 100 dimensions and use this data frame for PCA\n",
        "X=model[model.wv.vocab]\n",
        "df=pd.DataFrame(X, index=model.wv.vocab)\n",
        "df.shape\n",
        "df.head()"
      ],
      "id": "bD18X-vTe9in",
      "execution_count": 193,
      "outputs": [
        {
          "output_type": "stream",
          "text": [
            "/usr/local/lib/python3.7/dist-packages/ipykernel_launcher.py:2: DeprecationWarning: Call to deprecated `__getitem__` (Method will be removed in 4.0.0, use self.wv.__getitem__() instead).\n",
            "  \n"
          ],
          "name": "stderr"
        },
        {
          "output_type": "execute_result",
          "data": {
            "text/html": [
              "<div>\n",
              "<style scoped>\n",
              "    .dataframe tbody tr th:only-of-type {\n",
              "        vertical-align: middle;\n",
              "    }\n",
              "\n",
              "    .dataframe tbody tr th {\n",
              "        vertical-align: top;\n",
              "    }\n",
              "\n",
              "    .dataframe thead th {\n",
              "        text-align: right;\n",
              "    }\n",
              "</style>\n",
              "<table border=\"1\" class=\"dataframe\">\n",
              "  <thead>\n",
              "    <tr style=\"text-align: right;\">\n",
              "      <th></th>\n",
              "      <th>0</th>\n",
              "      <th>1</th>\n",
              "      <th>2</th>\n",
              "      <th>3</th>\n",
              "      <th>4</th>\n",
              "      <th>5</th>\n",
              "      <th>6</th>\n",
              "      <th>7</th>\n",
              "      <th>8</th>\n",
              "      <th>9</th>\n",
              "      <th>10</th>\n",
              "      <th>11</th>\n",
              "      <th>12</th>\n",
              "      <th>13</th>\n",
              "      <th>14</th>\n",
              "      <th>15</th>\n",
              "      <th>16</th>\n",
              "      <th>17</th>\n",
              "      <th>18</th>\n",
              "      <th>19</th>\n",
              "      <th>20</th>\n",
              "      <th>21</th>\n",
              "      <th>22</th>\n",
              "      <th>23</th>\n",
              "      <th>24</th>\n",
              "      <th>25</th>\n",
              "      <th>26</th>\n",
              "      <th>27</th>\n",
              "      <th>28</th>\n",
              "      <th>29</th>\n",
              "      <th>30</th>\n",
              "      <th>31</th>\n",
              "      <th>32</th>\n",
              "      <th>33</th>\n",
              "      <th>34</th>\n",
              "      <th>35</th>\n",
              "      <th>36</th>\n",
              "      <th>37</th>\n",
              "      <th>38</th>\n",
              "      <th>39</th>\n",
              "      <th>...</th>\n",
              "      <th>60</th>\n",
              "      <th>61</th>\n",
              "      <th>62</th>\n",
              "      <th>63</th>\n",
              "      <th>64</th>\n",
              "      <th>65</th>\n",
              "      <th>66</th>\n",
              "      <th>67</th>\n",
              "      <th>68</th>\n",
              "      <th>69</th>\n",
              "      <th>70</th>\n",
              "      <th>71</th>\n",
              "      <th>72</th>\n",
              "      <th>73</th>\n",
              "      <th>74</th>\n",
              "      <th>75</th>\n",
              "      <th>76</th>\n",
              "      <th>77</th>\n",
              "      <th>78</th>\n",
              "      <th>79</th>\n",
              "      <th>80</th>\n",
              "      <th>81</th>\n",
              "      <th>82</th>\n",
              "      <th>83</th>\n",
              "      <th>84</th>\n",
              "      <th>85</th>\n",
              "      <th>86</th>\n",
              "      <th>87</th>\n",
              "      <th>88</th>\n",
              "      <th>89</th>\n",
              "      <th>90</th>\n",
              "      <th>91</th>\n",
              "      <th>92</th>\n",
              "      <th>93</th>\n",
              "      <th>94</th>\n",
              "      <th>95</th>\n",
              "      <th>96</th>\n",
              "      <th>97</th>\n",
              "      <th>98</th>\n",
              "      <th>99</th>\n",
              "    </tr>\n",
              "  </thead>\n",
              "  <tbody>\n",
              "    <tr>\n",
              "      <th>sad</th>\n",
              "      <td>-0.050045</td>\n",
              "      <td>-0.020539</td>\n",
              "      <td>-0.002077</td>\n",
              "      <td>0.069890</td>\n",
              "      <td>0.008874</td>\n",
              "      <td>-0.015059</td>\n",
              "      <td>-0.049755</td>\n",
              "      <td>0.003400</td>\n",
              "      <td>-0.023308</td>\n",
              "      <td>-0.083840</td>\n",
              "      <td>0.056251</td>\n",
              "      <td>-0.076444</td>\n",
              "      <td>0.022743</td>\n",
              "      <td>-0.057874</td>\n",
              "      <td>0.047102</td>\n",
              "      <td>-0.003001</td>\n",
              "      <td>-0.065219</td>\n",
              "      <td>0.103010</td>\n",
              "      <td>0.038105</td>\n",
              "      <td>0.015338</td>\n",
              "      <td>0.017919</td>\n",
              "      <td>-0.038919</td>\n",
              "      <td>-0.040363</td>\n",
              "      <td>-0.026992</td>\n",
              "      <td>0.044821</td>\n",
              "      <td>0.083019</td>\n",
              "      <td>0.038180</td>\n",
              "      <td>0.069630</td>\n",
              "      <td>0.011951</td>\n",
              "      <td>-0.011292</td>\n",
              "      <td>0.016002</td>\n",
              "      <td>-0.041082</td>\n",
              "      <td>0.004352</td>\n",
              "      <td>0.101770</td>\n",
              "      <td>0.102953</td>\n",
              "      <td>0.042446</td>\n",
              "      <td>-0.044826</td>\n",
              "      <td>-0.022783</td>\n",
              "      <td>0.038827</td>\n",
              "      <td>-0.004138</td>\n",
              "      <td>...</td>\n",
              "      <td>-0.035153</td>\n",
              "      <td>-0.112650</td>\n",
              "      <td>0.024127</td>\n",
              "      <td>-0.045903</td>\n",
              "      <td>-0.026944</td>\n",
              "      <td>0.044667</td>\n",
              "      <td>-0.024516</td>\n",
              "      <td>0.005574</td>\n",
              "      <td>-0.013399</td>\n",
              "      <td>-0.053745</td>\n",
              "      <td>0.016798</td>\n",
              "      <td>-0.039719</td>\n",
              "      <td>-0.030837</td>\n",
              "      <td>0.028653</td>\n",
              "      <td>-0.001024</td>\n",
              "      <td>-0.075394</td>\n",
              "      <td>-0.054301</td>\n",
              "      <td>-0.020919</td>\n",
              "      <td>0.026961</td>\n",
              "      <td>0.038425</td>\n",
              "      <td>0.024980</td>\n",
              "      <td>0.013444</td>\n",
              "      <td>0.020060</td>\n",
              "      <td>0.036803</td>\n",
              "      <td>-0.024881</td>\n",
              "      <td>0.014413</td>\n",
              "      <td>0.033734</td>\n",
              "      <td>-0.011260</td>\n",
              "      <td>-0.019728</td>\n",
              "      <td>0.020331</td>\n",
              "      <td>0.005879</td>\n",
              "      <td>0.034766</td>\n",
              "      <td>-0.028229</td>\n",
              "      <td>0.081941</td>\n",
              "      <td>0.027393</td>\n",
              "      <td>0.035912</td>\n",
              "      <td>-0.062870</td>\n",
              "      <td>-0.052248</td>\n",
              "      <td>0.032678</td>\n",
              "      <td>-0.107258</td>\n",
              "    </tr>\n",
              "    <tr>\n",
              "      <th>sighs</th>\n",
              "      <td>-0.030766</td>\n",
              "      <td>-0.013171</td>\n",
              "      <td>-0.006984</td>\n",
              "      <td>0.048842</td>\n",
              "      <td>0.009583</td>\n",
              "      <td>-0.012300</td>\n",
              "      <td>-0.038712</td>\n",
              "      <td>-0.001782</td>\n",
              "      <td>-0.019229</td>\n",
              "      <td>-0.057773</td>\n",
              "      <td>0.039057</td>\n",
              "      <td>-0.056612</td>\n",
              "      <td>0.016017</td>\n",
              "      <td>-0.041652</td>\n",
              "      <td>0.027069</td>\n",
              "      <td>-0.002621</td>\n",
              "      <td>-0.043647</td>\n",
              "      <td>0.072284</td>\n",
              "      <td>0.030508</td>\n",
              "      <td>0.014810</td>\n",
              "      <td>0.017993</td>\n",
              "      <td>-0.031953</td>\n",
              "      <td>-0.028067</td>\n",
              "      <td>-0.023401</td>\n",
              "      <td>0.037864</td>\n",
              "      <td>0.060768</td>\n",
              "      <td>0.023100</td>\n",
              "      <td>0.047165</td>\n",
              "      <td>0.012589</td>\n",
              "      <td>-0.009271</td>\n",
              "      <td>0.007839</td>\n",
              "      <td>-0.036681</td>\n",
              "      <td>0.000171</td>\n",
              "      <td>0.066238</td>\n",
              "      <td>0.070353</td>\n",
              "      <td>0.032786</td>\n",
              "      <td>-0.033715</td>\n",
              "      <td>-0.008853</td>\n",
              "      <td>0.032287</td>\n",
              "      <td>-0.006833</td>\n",
              "      <td>...</td>\n",
              "      <td>-0.028536</td>\n",
              "      <td>-0.072649</td>\n",
              "      <td>0.016527</td>\n",
              "      <td>-0.027794</td>\n",
              "      <td>-0.023858</td>\n",
              "      <td>0.028347</td>\n",
              "      <td>-0.017310</td>\n",
              "      <td>0.007099</td>\n",
              "      <td>-0.005051</td>\n",
              "      <td>-0.039257</td>\n",
              "      <td>0.008791</td>\n",
              "      <td>-0.028166</td>\n",
              "      <td>-0.020468</td>\n",
              "      <td>0.022704</td>\n",
              "      <td>-0.002389</td>\n",
              "      <td>-0.049022</td>\n",
              "      <td>-0.037102</td>\n",
              "      <td>-0.008937</td>\n",
              "      <td>0.021691</td>\n",
              "      <td>0.028639</td>\n",
              "      <td>0.012788</td>\n",
              "      <td>0.010525</td>\n",
              "      <td>0.006543</td>\n",
              "      <td>0.018798</td>\n",
              "      <td>-0.014477</td>\n",
              "      <td>0.006163</td>\n",
              "      <td>0.023571</td>\n",
              "      <td>-0.010064</td>\n",
              "      <td>-0.011878</td>\n",
              "      <td>0.012316</td>\n",
              "      <td>-0.001645</td>\n",
              "      <td>0.018092</td>\n",
              "      <td>-0.020428</td>\n",
              "      <td>0.053225</td>\n",
              "      <td>0.019133</td>\n",
              "      <td>0.030072</td>\n",
              "      <td>-0.040002</td>\n",
              "      <td>-0.040124</td>\n",
              "      <td>0.023444</td>\n",
              "      <td>-0.073351</td>\n",
              "    </tr>\n",
              "    <tr>\n",
              "      <th>heart</th>\n",
              "      <td>-0.082034</td>\n",
              "      <td>-0.040042</td>\n",
              "      <td>-0.006471</td>\n",
              "      <td>0.106279</td>\n",
              "      <td>0.012008</td>\n",
              "      <td>-0.012748</td>\n",
              "      <td>-0.086245</td>\n",
              "      <td>-0.004840</td>\n",
              "      <td>-0.038153</td>\n",
              "      <td>-0.133675</td>\n",
              "      <td>0.086794</td>\n",
              "      <td>-0.118164</td>\n",
              "      <td>0.028881</td>\n",
              "      <td>-0.088787</td>\n",
              "      <td>0.070281</td>\n",
              "      <td>-0.000645</td>\n",
              "      <td>-0.103597</td>\n",
              "      <td>0.159381</td>\n",
              "      <td>0.065364</td>\n",
              "      <td>0.021073</td>\n",
              "      <td>0.030940</td>\n",
              "      <td>-0.071199</td>\n",
              "      <td>-0.066265</td>\n",
              "      <td>-0.050590</td>\n",
              "      <td>0.076603</td>\n",
              "      <td>0.146379</td>\n",
              "      <td>0.061100</td>\n",
              "      <td>0.109982</td>\n",
              "      <td>0.019742</td>\n",
              "      <td>-0.017581</td>\n",
              "      <td>0.029173</td>\n",
              "      <td>-0.074257</td>\n",
              "      <td>0.012113</td>\n",
              "      <td>0.160487</td>\n",
              "      <td>0.171488</td>\n",
              "      <td>0.073228</td>\n",
              "      <td>-0.070238</td>\n",
              "      <td>-0.025942</td>\n",
              "      <td>0.069144</td>\n",
              "      <td>-0.008361</td>\n",
              "      <td>...</td>\n",
              "      <td>-0.062024</td>\n",
              "      <td>-0.173042</td>\n",
              "      <td>0.042199</td>\n",
              "      <td>-0.070016</td>\n",
              "      <td>-0.053814</td>\n",
              "      <td>0.074061</td>\n",
              "      <td>-0.042042</td>\n",
              "      <td>0.016609</td>\n",
              "      <td>-0.020328</td>\n",
              "      <td>-0.081767</td>\n",
              "      <td>0.026755</td>\n",
              "      <td>-0.074621</td>\n",
              "      <td>-0.039901</td>\n",
              "      <td>0.054019</td>\n",
              "      <td>-0.006799</td>\n",
              "      <td>-0.113274</td>\n",
              "      <td>-0.090172</td>\n",
              "      <td>-0.032357</td>\n",
              "      <td>0.045234</td>\n",
              "      <td>0.053010</td>\n",
              "      <td>0.029577</td>\n",
              "      <td>0.016118</td>\n",
              "      <td>0.027085</td>\n",
              "      <td>0.049555</td>\n",
              "      <td>-0.043422</td>\n",
              "      <td>0.022303</td>\n",
              "      <td>0.063127</td>\n",
              "      <td>-0.022852</td>\n",
              "      <td>-0.030902</td>\n",
              "      <td>0.030795</td>\n",
              "      <td>0.007464</td>\n",
              "      <td>0.046775</td>\n",
              "      <td>-0.041055</td>\n",
              "      <td>0.135129</td>\n",
              "      <td>0.044758</td>\n",
              "      <td>0.060487</td>\n",
              "      <td>-0.106923</td>\n",
              "      <td>-0.089907</td>\n",
              "      <td>0.062623</td>\n",
              "      <td>-0.174060</td>\n",
              "    </tr>\n",
              "    <tr>\n",
              "      <th>fed</th>\n",
              "      <td>-0.009157</td>\n",
              "      <td>-0.002552</td>\n",
              "      <td>-0.001069</td>\n",
              "      <td>0.017560</td>\n",
              "      <td>0.002304</td>\n",
              "      <td>-0.006398</td>\n",
              "      <td>-0.015593</td>\n",
              "      <td>0.001386</td>\n",
              "      <td>-0.010664</td>\n",
              "      <td>-0.021961</td>\n",
              "      <td>0.012785</td>\n",
              "      <td>-0.018256</td>\n",
              "      <td>0.009295</td>\n",
              "      <td>-0.017092</td>\n",
              "      <td>0.009807</td>\n",
              "      <td>0.002628</td>\n",
              "      <td>-0.010101</td>\n",
              "      <td>0.020737</td>\n",
              "      <td>0.011054</td>\n",
              "      <td>0.003190</td>\n",
              "      <td>0.005659</td>\n",
              "      <td>-0.008337</td>\n",
              "      <td>-0.013668</td>\n",
              "      <td>-0.005725</td>\n",
              "      <td>0.015050</td>\n",
              "      <td>0.020063</td>\n",
              "      <td>0.004462</td>\n",
              "      <td>0.015714</td>\n",
              "      <td>0.003637</td>\n",
              "      <td>-0.001370</td>\n",
              "      <td>0.004315</td>\n",
              "      <td>-0.015809</td>\n",
              "      <td>0.005632</td>\n",
              "      <td>0.025169</td>\n",
              "      <td>0.028679</td>\n",
              "      <td>0.007113</td>\n",
              "      <td>-0.007083</td>\n",
              "      <td>-0.002286</td>\n",
              "      <td>0.008564</td>\n",
              "      <td>0.000158</td>\n",
              "      <td>...</td>\n",
              "      <td>-0.006660</td>\n",
              "      <td>-0.023010</td>\n",
              "      <td>0.004845</td>\n",
              "      <td>-0.011316</td>\n",
              "      <td>-0.011563</td>\n",
              "      <td>0.010623</td>\n",
              "      <td>-0.001914</td>\n",
              "      <td>0.006255</td>\n",
              "      <td>-0.004018</td>\n",
              "      <td>-0.012058</td>\n",
              "      <td>0.005847</td>\n",
              "      <td>-0.010952</td>\n",
              "      <td>-0.006419</td>\n",
              "      <td>0.009988</td>\n",
              "      <td>-0.000878</td>\n",
              "      <td>-0.020883</td>\n",
              "      <td>-0.016202</td>\n",
              "      <td>-0.008077</td>\n",
              "      <td>0.003648</td>\n",
              "      <td>0.010937</td>\n",
              "      <td>0.000476</td>\n",
              "      <td>0.007657</td>\n",
              "      <td>0.003445</td>\n",
              "      <td>0.007181</td>\n",
              "      <td>-0.004357</td>\n",
              "      <td>-0.000296</td>\n",
              "      <td>0.013578</td>\n",
              "      <td>0.001190</td>\n",
              "      <td>-0.007222</td>\n",
              "      <td>0.005288</td>\n",
              "      <td>0.003311</td>\n",
              "      <td>0.006812</td>\n",
              "      <td>-0.008041</td>\n",
              "      <td>0.015545</td>\n",
              "      <td>0.006692</td>\n",
              "      <td>0.008669</td>\n",
              "      <td>-0.013915</td>\n",
              "      <td>-0.008861</td>\n",
              "      <td>0.010772</td>\n",
              "      <td>-0.024666</td>\n",
              "    </tr>\n",
              "    <tr>\n",
              "      <th>early</th>\n",
              "      <td>-0.001937</td>\n",
              "      <td>-0.002764</td>\n",
              "      <td>-0.004913</td>\n",
              "      <td>0.003678</td>\n",
              "      <td>0.003391</td>\n",
              "      <td>-0.002292</td>\n",
              "      <td>-0.005824</td>\n",
              "      <td>0.002234</td>\n",
              "      <td>-0.004765</td>\n",
              "      <td>-0.013408</td>\n",
              "      <td>0.009636</td>\n",
              "      <td>-0.012021</td>\n",
              "      <td>0.005853</td>\n",
              "      <td>-0.008753</td>\n",
              "      <td>0.001650</td>\n",
              "      <td>0.003725</td>\n",
              "      <td>-0.009900</td>\n",
              "      <td>0.014842</td>\n",
              "      <td>0.009741</td>\n",
              "      <td>0.004315</td>\n",
              "      <td>-0.000963</td>\n",
              "      <td>-0.005021</td>\n",
              "      <td>-0.009121</td>\n",
              "      <td>-0.005606</td>\n",
              "      <td>0.003407</td>\n",
              "      <td>0.012144</td>\n",
              "      <td>0.004543</td>\n",
              "      <td>0.004793</td>\n",
              "      <td>-0.003144</td>\n",
              "      <td>-0.004194</td>\n",
              "      <td>0.006278</td>\n",
              "      <td>-0.005555</td>\n",
              "      <td>0.005744</td>\n",
              "      <td>0.011463</td>\n",
              "      <td>0.016524</td>\n",
              "      <td>0.010139</td>\n",
              "      <td>-0.008409</td>\n",
              "      <td>-0.002284</td>\n",
              "      <td>0.000474</td>\n",
              "      <td>-0.002603</td>\n",
              "      <td>...</td>\n",
              "      <td>-0.006232</td>\n",
              "      <td>-0.015218</td>\n",
              "      <td>0.002365</td>\n",
              "      <td>-0.006153</td>\n",
              "      <td>-0.007774</td>\n",
              "      <td>0.009289</td>\n",
              "      <td>-0.005011</td>\n",
              "      <td>-0.000840</td>\n",
              "      <td>-0.005087</td>\n",
              "      <td>-0.009389</td>\n",
              "      <td>-0.001418</td>\n",
              "      <td>-0.008741</td>\n",
              "      <td>-0.007415</td>\n",
              "      <td>0.008608</td>\n",
              "      <td>0.004309</td>\n",
              "      <td>-0.013481</td>\n",
              "      <td>-0.005534</td>\n",
              "      <td>-0.004724</td>\n",
              "      <td>0.007169</td>\n",
              "      <td>0.001175</td>\n",
              "      <td>0.007264</td>\n",
              "      <td>0.005486</td>\n",
              "      <td>0.001387</td>\n",
              "      <td>-0.000552</td>\n",
              "      <td>0.000115</td>\n",
              "      <td>-0.002648</td>\n",
              "      <td>0.004699</td>\n",
              "      <td>-0.006985</td>\n",
              "      <td>-0.005201</td>\n",
              "      <td>0.004496</td>\n",
              "      <td>0.003558</td>\n",
              "      <td>0.006517</td>\n",
              "      <td>-0.002209</td>\n",
              "      <td>0.013676</td>\n",
              "      <td>0.004985</td>\n",
              "      <td>0.007353</td>\n",
              "      <td>-0.007011</td>\n",
              "      <td>-0.005330</td>\n",
              "      <td>0.001423</td>\n",
              "      <td>-0.016241</td>\n",
              "    </tr>\n",
              "  </tbody>\n",
              "</table>\n",
              "<p>5 rows × 100 columns</p>\n",
              "</div>"
            ],
            "text/plain": [
              "             0         1         2   ...        97        98        99\n",
              "sad   -0.050045 -0.020539 -0.002077  ... -0.052248  0.032678 -0.107258\n",
              "sighs -0.030766 -0.013171 -0.006984  ... -0.040124  0.023444 -0.073351\n",
              "heart -0.082034 -0.040042 -0.006471  ... -0.089907  0.062623 -0.174060\n",
              "fed   -0.009157 -0.002552 -0.001069  ... -0.008861  0.010772 -0.024666\n",
              "early -0.001937 -0.002764 -0.004913  ... -0.005330  0.001423 -0.016241\n",
              "\n",
              "[5 rows x 100 columns]"
            ]
          },
          "metadata": {
            "tags": []
          },
          "execution_count": 193
        }
      ]
    },
    {
      "cell_type": "code",
      "metadata": {
        "id": "EkBf2dIJe9k9"
      },
      "source": [
        "#Computing the correlation matrix\n",
        "X_corr=df.corr()\n",
        "\n",
        "#Computing eigen values and eigen vectors\n",
        "values,vectors=np.linalg.eig(X_corr)\n",
        "\n",
        "#Sorting the eigen vectors coresponding to eigen values in descending order\n",
        "args = (-values).argsort()\n",
        "values = vectors[args]\n",
        "vectors = vectors[:, args]\n",
        "\n",
        "#Taking first 3 components which explain maximum variance for projecting\n",
        "new_vectors=vectors[:,:3]\n",
        "\n",
        "#Projecting it onto new dimesion with 2 axis\n",
        "neww_X=np.dot(X,new_vectors)"
      ],
      "id": "EkBf2dIJe9k9",
      "execution_count": null,
      "outputs": []
    },
    {
      "cell_type": "markdown",
      "metadata": {
        "id": "xu5VILPtEwCu"
      },
      "source": [
        "### Saving PCA array as tsv"
      ],
      "id": "xu5VILPtEwCu"
    },
    {
      "cell_type": "code",
      "metadata": {
        "id": "3GsOUV3hkFlY"
      },
      "source": [
        "#Save PCA\n",
        "\n",
        "np.savetxt(\"PCA_Petrarch.tsv\", neww_X, delimiter='\\t')\n",
        "from google.colab import files\n",
        "files.download(\"PCA_Petrarch.tsv\")"
      ],
      "id": "3GsOUV3hkFlY",
      "execution_count": null,
      "outputs": []
    },
    {
      "cell_type": "markdown",
      "metadata": {
        "id": "wkael6n0E6ve"
      },
      "source": [
        "Create frequency matrix (this is the \"metadata\" we will use for Tensorflow visualization)"
      ],
      "id": "wkael6n0E6ve"
    },
    {
      "cell_type": "code",
      "metadata": {
        "colab": {
          "base_uri": "https://localhost:8080/",
          "height": 289
        },
        "id": "8ZC0V0i8po4O",
        "outputId": "b3152c61-c34f-40b9-9950-ffc1ef9c7b06"
      },
      "source": [
        "#create a list of each word\n",
        "y = []\n",
        "for x in range(len(tokenized)):\n",
        "  for word in tokenized[x]:\n",
        "    y.append(word)\n",
        "print('There are',len(y),'words in our corpus.')\n",
        "\n",
        "#calculate a frequency distribution\n",
        "frequency_dict = nltk.FreqDist(y)\n",
        "frequency_dict = dict(frequency_dict)\n",
        "\n",
        "#Sanity check: we should see that our word count of y is decreased in frequency_dict. \n",
        "def total_keys(test_dict): \n",
        "    return (0 if not isinstance(test_dict, dict)  \n",
        "    else len(test_dict) + sum(total_keys(val) for val in test_dict.values())) \n",
        "  \n",
        "print('There are',total_keys(frequency_dict),'unique words in our frequency dictionary')\n",
        "\n",
        "#Store our word / count in an array.\n",
        "end_arr = []\n",
        "for key, value in frequency_dict.items():\n",
        "  end_arr.append([key, frequency_dict[key]])\n",
        "\n",
        "#Put that array into a dictionary\n",
        "print('\\n\\nHere is that word/count array as a DataFrame:')\n",
        "end_arr = pd.DataFrame(end_arr, columns=['word', 'count'])\n",
        "end_arr.head()"
      ],
      "id": "8ZC0V0i8po4O",
      "execution_count": 278,
      "outputs": [
        {
          "output_type": "stream",
          "text": [
            "There are 45107 words in our corpus.\n",
            "There are 8862 unique words in our frequency dictionary\n",
            "\n",
            "\n",
            "Here is that word/count array as a DataFrame:\n"
          ],
          "name": "stdout"
        },
        {
          "output_type": "execute_result",
          "data": {
            "text/html": [
              "<div>\n",
              "<style scoped>\n",
              "    .dataframe tbody tr th:only-of-type {\n",
              "        vertical-align: middle;\n",
              "    }\n",
              "\n",
              "    .dataframe tbody tr th {\n",
              "        vertical-align: top;\n",
              "    }\n",
              "\n",
              "    .dataframe thead th {\n",
              "        text-align: right;\n",
              "    }\n",
              "</style>\n",
              "<table border=\"1\" class=\"dataframe\">\n",
              "  <thead>\n",
              "    <tr style=\"text-align: right;\">\n",
              "      <th></th>\n",
              "      <th>word</th>\n",
              "      <th>count</th>\n",
              "    </tr>\n",
              "  </thead>\n",
              "  <tbody>\n",
              "    <tr>\n",
              "      <th>0</th>\n",
              "      <td>sad</td>\n",
              "      <td>83</td>\n",
              "    </tr>\n",
              "    <tr>\n",
              "      <th>1</th>\n",
              "      <td>sighs</td>\n",
              "      <td>67</td>\n",
              "    </tr>\n",
              "    <tr>\n",
              "      <th>2</th>\n",
              "      <td>heart</td>\n",
              "      <td>272</td>\n",
              "    </tr>\n",
              "    <tr>\n",
              "      <th>3</th>\n",
              "      <td>fed</td>\n",
              "      <td>22</td>\n",
              "    </tr>\n",
              "    <tr>\n",
              "      <th>4</th>\n",
              "      <td>early</td>\n",
              "      <td>11</td>\n",
              "    </tr>\n",
              "  </tbody>\n",
              "</table>\n",
              "</div>"
            ],
            "text/plain": [
              "    word  count\n",
              "0    sad     83\n",
              "1  sighs     67\n",
              "2  heart    272\n",
              "3    fed     22\n",
              "4  early     11"
            ]
          },
          "metadata": {
            "tags": []
          },
          "execution_count": 278
        }
      ]
    },
    {
      "cell_type": "markdown",
      "metadata": {
        "id": "OlLSm1M1F7c-"
      },
      "source": [
        "### Saving word/count dataframe as csv (convert to tsv to use as metadata in TensorFlow)"
      ],
      "id": "OlLSm1M1F7c-"
    },
    {
      "cell_type": "code",
      "metadata": {
        "colab": {
          "base_uri": "https://localhost:8080/",
          "height": 17
        },
        "id": "avxhc-0jr-Pa",
        "outputId": "41841d27-9ee5-4b3f-f411-a3e0b9fc8d8a"
      },
      "source": [
        "#Download word/count array as a csv. \n",
        "x = \"\\t\"\n",
        "end_arr.to_csv('end_arr.csv', sep='\\t', index=False)\n",
        "\n",
        "from google.colab import files\n",
        "files.download(\"end_arr.csv\")\n",
        "\n",
        "#AFTER it downloads, rename the file as a \".tsv\" extension as opposed to \".csv\""
      ],
      "id": "avxhc-0jr-Pa",
      "execution_count": 267,
      "outputs": [
        {
          "output_type": "display_data",
          "data": {
            "application/javascript": [
              "\n",
              "    async function download(id, filename, size) {\n",
              "      if (!google.colab.kernel.accessAllowed) {\n",
              "        return;\n",
              "      }\n",
              "      const div = document.createElement('div');\n",
              "      const label = document.createElement('label');\n",
              "      label.textContent = `Downloading \"${filename}\": `;\n",
              "      div.appendChild(label);\n",
              "      const progress = document.createElement('progress');\n",
              "      progress.max = size;\n",
              "      div.appendChild(progress);\n",
              "      document.body.appendChild(div);\n",
              "\n",
              "      const buffers = [];\n",
              "      let downloaded = 0;\n",
              "\n",
              "      const channel = await google.colab.kernel.comms.open(id);\n",
              "      // Send a message to notify the kernel that we're ready.\n",
              "      channel.send({})\n",
              "\n",
              "      for await (const message of channel.messages) {\n",
              "        // Send a message to notify the kernel that we're ready.\n",
              "        channel.send({})\n",
              "        if (message.buffers) {\n",
              "          for (const buffer of message.buffers) {\n",
              "            buffers.push(buffer);\n",
              "            downloaded += buffer.byteLength;\n",
              "            progress.value = downloaded;\n",
              "          }\n",
              "        }\n",
              "      }\n",
              "      const blob = new Blob(buffers, {type: 'application/binary'});\n",
              "      const a = document.createElement('a');\n",
              "      a.href = window.URL.createObjectURL(blob);\n",
              "      a.download = filename;\n",
              "      div.appendChild(a);\n",
              "      a.click();\n",
              "      div.remove();\n",
              "    }\n",
              "  "
            ],
            "text/plain": [
              "<IPython.core.display.Javascript object>"
            ]
          },
          "metadata": {
            "tags": []
          }
        },
        {
          "output_type": "display_data",
          "data": {
            "application/javascript": [
              "download(\"download_b397c3fa-5cf5-45fa-9699-dcdb047da1ac\", \"end_arr.csv\", 86213)"
            ],
            "text/plain": [
              "<IPython.core.display.Javascript object>"
            ]
          },
          "metadata": {
            "tags": []
          }
        }
      ]
    },
    {
      "cell_type": "markdown",
      "metadata": {
        "id": "cXq7hqXVGF5G"
      },
      "source": [
        "## Non-TensorFlow visualization"
      ],
      "id": "cXq7hqXVGF5G"
    },
    {
      "cell_type": "code",
      "metadata": {
        "colab": {
          "base_uri": "https://localhost:8080/",
          "height": 468
        },
        "id": "hzGcZ9vme9ni",
        "outputId": "11743b95-0e52-433b-e447-e56d7f340766"
      },
      "source": [
        "import matplotlib.pyplot as plt\n",
        "plt.figure(figsize=(13,7))\n",
        "plt.scatter(neww_X[:,0],neww_X[:,1],linewidths=10,color='blue')\n",
        "plt.xlabel(\"PC1\",size=15)\n",
        "plt.ylabel(\"PC2\",size=15)\n",
        "plt.title(\"Word Embedding Space\",size=20)\n",
        "vocab=list(model.wv.vocab)\n",
        "\n",
        "a\n",
        "for i, word in enumerate(vocab):\n",
        "  plt.annotate(word,xy=(neww_X[i,0],neww_X[i,1]))"
      ],
      "id": "hzGcZ9vme9ni",
      "execution_count": 196,
      "outputs": [
        {
          "output_type": "display_data",
          "data": {
            "image/png": "[encoded data removed]",
            "text/plain": [
              "<Figure size 936x504 with 1 Axes>"
            ]
          },
          "metadata": {
            "tags": [],
            "needs_background": "light"
          }
        }
      ]
    },
    {
      "cell_type": "code",
      "metadata": {
        "id": "NbrW9u9Ne9qD"
      },
      "source": [
        ""
      ],
      "id": "NbrW9u9Ne9qD",
      "execution_count": null,
      "outputs": []
    },
    {
      "cell_type": "markdown",
      "metadata": {
        "id": "PzavoU06e4gK"
      },
      "source": [
        "Rules of Petrarchan sonnet\n",
        "- 14 lines\n",
        "- 8 line subsection / 6 line subsection (seste)\n",
        "- 8 line --> ABBA ABBA \n",
        "- 6 line --> CDE CDE \n"
      ],
      "id": "PzavoU06e4gK"
    },
    {
      "cell_type": "code",
      "metadata": {
        "id": "interracial-wallace"
      },
      "source": [
        "with open('data/poetry/raw.txt', 'r') as rawfp,\\\n",
        " open('data/poetry/input.txt', 'w') as infp,\\\n",
        " open('data/poetry/output.txt', 'w') as outfp:\n",
        "   \n",
        "   prev_line = ''\n",
        "   for curr_line in rawfp:\n",
        "       curr_line = curr_line.strip()\n",
        "       # poems break at empty lines, so this ensures we train only\n",
        "       # on lines of the same poem\n",
        "       if len(prev_line) > 0 and len(curr_line) > 0:       \n",
        "           infp.write(prev_line + '\\n')\n",
        "           outfp.write(curr_line + '\\n')\n",
        "       prev_line = curr_line"
      ],
      "id": "interracial-wallace",
      "execution_count": null,
      "outputs": []
    },
    {
      "cell_type": "code",
      "metadata": {
        "id": "XdLt6Qo5UJr6"
      },
      "source": [
        ""
      ],
      "id": "XdLt6Qo5UJr6",
      "execution_count": null,
      "outputs": []
    },
    {
      "cell_type": "code",
      "metadata": {
        "id": "kJrs9RnuUJub"
      },
      "source": [
        ""
      ],
      "id": "kJrs9RnuUJub",
      "execution_count": null,
      "outputs": []
    },
    {
      "cell_type": "code",
      "metadata": {
        "id": "1SO9ebveUJxK"
      },
      "source": [
        ""
      ],
      "id": "1SO9ebveUJxK",
      "execution_count": null,
      "outputs": []
    },
    {
      "cell_type": "code",
      "metadata": {
        "id": "dried-treasury"
      },
      "source": [
        ""
      ],
      "id": "dried-treasury",
      "execution_count": null,
      "outputs": []
    },
    {
      "cell_type": "code",
      "metadata": {
        "id": "historic-buffer"
      },
      "source": [
        ""
      ],
      "id": "historic-buffer",
      "execution_count": null,
      "outputs": []
    },
    {
      "cell_type": "code",
      "metadata": {
        "id": "dress-durham"
      },
      "source": [
        ""
      ],
      "id": "dress-durham",
      "execution_count": null,
      "outputs": []
    },
    {
      "cell_type": "code",
      "metadata": {
        "id": "subtle-potential"
      },
      "source": [
        ""
      ],
      "id": "subtle-potential",
      "execution_count": null,
      "outputs": []
    },
    {
      "cell_type": "code",
      "metadata": {
        "id": "special-version"
      },
      "source": [
        ""
      ],
      "id": "special-version",
      "execution_count": null,
      "outputs": []
    },
    {
      "cell_type": "code",
      "metadata": {
        "id": "silver-mitchell"
      },
      "source": [
        ""
      ],
      "id": "silver-mitchell",
      "execution_count": null,
      "outputs": []
    }
  ]
}