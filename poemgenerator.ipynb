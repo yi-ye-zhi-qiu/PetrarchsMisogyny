{
 "cells": [
  {
   "cell_type": "code",
   "execution_count": 27,
   "id": "framed-chamber",
   "metadata": {},
   "outputs": [],
   "source": [
    "from gutenberg.acquire import load_etext\n",
    "from gutenberg.cleanup import strip_headers\n",
    "import re"
   ]
  },
  {
   "cell_type": "code",
   "execution_count": 28,
   "id": "stupid-departure",
   "metadata": {},
   "outputs": [],
   "source": [
    "#Define books we want\n",
    "\n",
    "books = [\n",
    "#   BookID, skip N lines\n",
    "#   (26715, 1000, 'Victorian songs'),\n",
    "#   (30235, 580, 'Baldwin collection'),\n",
    "#   (35402, 710, 'Swinburne collection'),\n",
    "#   (574, 15, 'Blake'),\n",
    "#   (1304, 172, 'Bulchevys collection'),\n",
    "#   (19221, 223, 'Palgrave-Pearse collection'),\n",
    "#   (15553, 522, 'Knowles collection') ,\n",
    "    (17650, 6605, 'The Sonnets, Triumphs, and Other Poems of Petrarch by Francesco Petrarca') \n",
    "#                                    Link: https://www.gutenberg.org/ebooks/17650\n",
    "#                                    6605 is the # of lines that we skip to get \n",
    "#                                    to the poems.\n",
    "]"
   ]
  },
  {
   "cell_type": "markdown",
   "id": "military-reproduction",
   "metadata": {},
   "source": [
    "Generate raw.txt, a file with *only* the poems of Petrarch extracted from the book \"The \n",
    "Sonnets, Triumphs, and Other Poems of Petrarch by Francesco Petrarca\""
   ]
  },
  {
   "cell_type": "code",
   "execution_count": 29,
   "id": "searching-brave",
   "metadata": {},
   "outputs": [
    {
     "name": "stdout",
     "output_type": "stream",
     "text": [
      "Wrote lines 0 to 10983 from The Sonnets, Triumphs, and Other Poems of Petrarch by Francesco Petrarca\n"
     ]
    }
   ],
   "source": [
    "#Save as raw.txt\n",
    "with open('data/poetry/raw.txt', 'w') as ofp:\n",
    "  lineno = 0\n",
    "  for (id_nr, toskip, title) in books:\n",
    "    startline = lineno\n",
    "    text = strip_headers(load_etext(id_nr, mirror='http://mirrors.xmission.com/gutenberg/')).strip()\n",
    "    lines = text.split('\\n')[toskip:]\n",
    "    for line in lines:\n",
    "      if (len(line) > 0 \n",
    "          and line.upper() != line \n",
    "          and not re.match('.*[0-9]+.*', line)\n",
    "          and len(line) < 50\n",
    "         ): #skip Titles\n",
    "        cleaned = re.sub('[^a-z\\'\\-]+', ' ', line.strip().lower()) #all lowercase, only letters\n",
    "        ofp.write(cleaned)\n",
    "        ofp.write('\\n')\n",
    "        lineno = lineno + 1 #next line\n",
    "      else:\n",
    "        ofp.write('\\n')\n",
    "    print('Wrote lines {} to {} from {}'.format(startline, lineno, title))"
   ]
  },
  {
   "cell_type": "code",
   "execution_count": null,
   "id": "subjective-precipitation",
   "metadata": {},
   "outputs": [],
   "source": []
  },
  {
   "cell_type": "code",
   "execution_count": 43,
   "id": "interracial-wallace",
   "metadata": {},
   "outputs": [],
   "source": [
    "with open('data/poetry/raw.txt', 'r') as rawfp,\\\n",
    " open('data/poetry/input.txt', 'w') as infp,\\\n",
    " open('data/poetry/output.txt', 'w') as outfp:\n",
    "   \n",
    "   prev_line = ''\n",
    "   for curr_line in rawfp:\n",
    "       curr_line = curr_line.strip()\n",
    "       # poems break at empty lines, so this ensures we train only\n",
    "       # on lines of the same poem\n",
    "       if len(prev_line) > 0 and len(curr_line) > 0:       \n",
    "           infp.write(prev_line + '\\n')\n",
    "           outfp.write(curr_line + '\\n')\n",
    "       prev_line = curr_line"
   ]
  },
  {
   "cell_type": "code",
   "execution_count": null,
   "id": "dried-treasury",
   "metadata": {},
   "outputs": [],
   "source": []
  },
  {
   "cell_type": "code",
   "execution_count": null,
   "id": "historic-buffer",
   "metadata": {},
   "outputs": [],
   "source": []
  },
  {
   "cell_type": "code",
   "execution_count": null,
   "id": "dress-durham",
   "metadata": {},
   "outputs": [],
   "source": []
  },
  {
   "cell_type": "code",
   "execution_count": null,
   "id": "subtle-potential",
   "metadata": {},
   "outputs": [],
   "source": []
  },
  {
   "cell_type": "code",
   "execution_count": null,
   "id": "special-version",
   "metadata": {},
   "outputs": [],
   "source": []
  },
  {
   "cell_type": "code",
   "execution_count": null,
   "id": "silver-mitchell",
   "metadata": {},
   "outputs": [],
   "source": []
  }
 ],
 "metadata": {
  "kernelspec": {
   "display_name": "Python 3",
   "language": "python",
   "name": "python3"
  },
  "language_info": {
   "codemirror_mode": {
    "name": "ipython",
    "version": 3
   },
   "file_extension": ".py",
   "mimetype": "text/x-python",
   "name": "python",
   "nbconvert_exporter": "python",
   "pygments_lexer": "ipython3",
   "version": "3.8.5"
  }
 },
 "nbformat": 4,
 "nbformat_minor": 5
}
